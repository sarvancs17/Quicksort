{
  "nbformat": 4,
  "nbformat_minor": 0,
  "metadata": {
    "colab": {
      "provenance": [],
      "authorship_tag": "ABX9TyORKu6yHs0g6oE530bnGZxd",
      "include_colab_link": true
    },
    "kernelspec": {
      "name": "python3",
      "display_name": "Python 3"
    },
    "language_info": {
      "name": "python"
    }
  },
  "cells": [
    {
      "cell_type": "markdown",
      "metadata": {
        "id": "view-in-github",
        "colab_type": "text"
      },
      "source": [
        "<a href=\"https://colab.research.google.com/github/sarvancs17/Quicksort/blob/main/QuickSort.ipynb\" target=\"_parent\"><img src=\"https://colab.research.google.com/assets/colab-badge.svg\" alt=\"Open In Colab\"/></a>"
      ]
    },
    {
      "cell_type": "code",
      "execution_count": 1,
      "metadata": {
        "colab": {
          "base_uri": "https://localhost:8080/"
        },
        "id": "Nrj-Hhpb16E1",
        "outputId": "b437183b-3985-4432-9cc2-8108d55adf20"
      },
      "outputs": [
        {
          "output_type": "stream",
          "name": "stdout",
          "text": [
            "[17, 26, 31, 56, 93, 44]\n"
          ]
        }
      ],
      "source": [
        "#Quick sort - Partition exchange sort algorithm\n",
        "#to get the right position of the pivot element   [ 56,26,93,17,31,44]\n",
        "def pivot_place(list1,first,last):\n",
        "  pivot=list1[first]\n",
        "  left=first+1\n",
        "  right=last\n",
        "  while True:\n",
        "    while left<=right and list1[left]<=pivot:            #56 pivot,26 left,44 last-->26<=56 then i increment left =1\n",
        "      left=left+1                                       #93<=56->no ->so stop\n",
        "    while left<=right and list1[right]>=pivot:           #then 93<56 -< no --96<44 stop the while loop then swap,swap 93,44\n",
        "      right=right-1\n",
        "    if right<left:\n",
        "      break\n",
        "    else:\n",
        "      list1[left],list1[right]=list1[right],list1[left]\n",
        "  list1[first],list1[right]=list1[right],list1[first]\n",
        "  return right\n",
        "def quick_sort(list1,first,last):\n",
        "  if first<last:\n",
        "    p=pivot_place(list1,first,last)\n",
        "    quick_sort(list1,first,p-1)\n",
        "    quick_sort(list1,p+1,last)\n",
        "\n",
        "list1=[56,26,93,17,31,44]\n",
        "n=len(list1)-1\n",
        "quick_sort(list1,0,n-1)\n",
        "print(list1)"
      ]
    }
  ]
}